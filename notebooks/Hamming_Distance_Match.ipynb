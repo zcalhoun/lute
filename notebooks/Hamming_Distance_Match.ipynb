{
 "cells": [
  {
   "cell_type": "markdown",
   "id": "fc4d5fc7",
   "metadata": {},
   "source": [
    "# In this notebook\n",
    "I implement a matching technique that leverages the Hamming Distance to match similar areas.\n",
    "\n",
    "Key assumption:\n",
    "* We assume images/temperatures are independent (which we know is not true), but for the sake of this assignment, this might be ok."
   ]
  },
  {
   "cell_type": "code",
   "execution_count": 112,
   "id": "ae751516",
   "metadata": {},
   "outputs": [],
   "source": [
    "# Import all dependencies\n",
    "import os\n",
    "import numpy as np\n",
    "from matplotlib import pyplot as plt\n",
    "\n",
    "import torch\n",
    "from multiprocessing import Pool\n",
    "from torch.utils.data import Dataset\n",
    "import time"
   ]
  },
  {
   "cell_type": "markdown",
   "id": "47a0f4f5",
   "metadata": {},
   "source": [
    "# Load the images"
   ]
  },
  {
   "cell_type": "code",
   "execution_count": 113,
   "id": "a097d585",
   "metadata": {},
   "outputs": [],
   "source": [
    "file_path = '/datacommons/carlsonlab/zdc6/cs590/land_use/train'\n",
    "imgs = os.listdir(os.path.join(file_path, 'img'))\n",
    "\n",
    "\n",
    "class OneHotImages(Dataset):\n",
    "    def __init__(self, file_path, files = None, transforms=None):\n",
    "        self.file_path = file_path\n",
    "\n",
    "        # Images\n",
    "        if files is None:\n",
    "            self.files = os.listdir(os.path.join(file_path, \"img\"))\n",
    "        else:\n",
    "            self.files = files\n",
    "        \n",
    "        # Define the number of processes to use\n",
    "        self.num_processes = 8\n",
    "\n",
    "    def __len__(self):\n",
    "        return len(self.files)\n",
    "    \n",
    "    def _load_data(self, idx):\n",
    "        img = torch.load(os.path.join(self.file_path, \"img\", self.files[idx]))\n",
    "\n",
    "        with open(\n",
    "            os.path.join(self.file_path, \"labels\", self.files[idx][:-3] + \".txt\")\n",
    "        ) as fp:\n",
    "            label = float(fp.read())\n",
    "        # Omit the tree class\n",
    "        return img.numpy(), self.files[idx], label\n",
    "\n",
    "    def __getitem__(self, idx):\n",
    "        return self._load_data(idx)\n",
    "\n",
    "    #Multiprocessing attempt\n",
    "    def _load_data_parallel(self, indices):\n",
    "        with Pool(self.num_processes) as p:\n",
    "            data = p.map(self._load_data, indices)\n",
    "        return data\n",
    "\n",
    "    def get_data_parallel(self):\n",
    "        indices = list(range(len(self)))\n",
    "        return self._load_data_parallel(indices)"
   ]
  },
  {
   "cell_type": "code",
   "execution_count": 114,
   "id": "b6a51c45",
   "metadata": {},
   "outputs": [],
   "source": [
    "# We only need the training data\n",
    "train = OneHotImages(\"/datacommons/carlsonlab/zdc6/cs590/land_use/train\")"
   ]
  },
  {
   "cell_type": "markdown",
   "id": "7fdd6124",
   "metadata": {},
   "source": [
    "# Define the treatment and bin accordingly"
   ]
  },
  {
   "cell_type": "code",
   "execution_count": 115,
   "id": "b87b5c73",
   "metadata": {},
   "outputs": [
    {
     "name": "stdout",
     "output_type": "stream",
     "text": [
      "11.014486312866211\n"
     ]
    }
   ],
   "source": [
    "# Multiprocessing attempt\n",
    "# Overhead of managing processes longer than sequential approach\n",
    "start = time.time()\n",
    "train_data = train.get_data_parallel()\n",
    "print(time.time() - start)"
   ]
  },
  {
   "cell_type": "code",
   "execution_count": 124,
   "id": "54add63e",
   "metadata": {},
   "outputs": [],
   "source": [
    "# Define the treatment distance in pixels, the class of interest, \n",
    "# and the percentage greater than for the treatment, and percentage less than\n",
    "# for the control\n",
    "\n",
    "def create_treatment_and_control_groups(distance, treatment, control, treatment_pctg, control_pctg):\n",
    "    # Add files to this list for matching\n",
    "    start = time.time()\n",
    "    \n",
    "    treatment_group = []\n",
    "    control_group = []\n",
    "    \n",
    "    # Set a few variables\n",
    "    w, h, _ = train[0][0].shape\n",
    "\n",
    "    # Look at each image and file into the categories\n",
    "    for img, file_name, label in train_data: \n",
    "        # Look at pixels in the middle of the image\n",
    "        area = img[w//2 - distance:w//2 + distance, h//2 - distance:h//2 + distance, :]\n",
    "\n",
    "        if area[:, :, treatment].mean() > treatment_pctg:\n",
    "            treatment_group.append((img, file_name, label))\n",
    "\n",
    "        if area[:, :, control].mean() > control_pctg:\n",
    "            control_group.append((img, file_name, label))\n",
    "    \n",
    "    print(f\"{time.time() - start} seconds\")\n",
    "    \n",
    "    return treatment_group, control_group"
   ]
  },
  {
   "cell_type": "code",
   "execution_count": 125,
   "id": "13469e08",
   "metadata": {},
   "outputs": [],
   "source": [
    "distance = 10\n",
    "treatment = 0   # 0 is roughly concrete, 1 is grass, 2 is trees, 3 is building? this isn't exact\n",
    "control = 2\n",
    "treatment_pctg = 0.9\n",
    "control_pctg = 0.9"
   ]
  },
  {
   "cell_type": "code",
   "execution_count": 126,
   "id": "0b0700ca",
   "metadata": {},
   "outputs": [
    {
     "name": "stdout",
     "output_type": "stream",
     "text": [
      "0.031026363372802734 seconds\n"
     ]
    }
   ],
   "source": [
    "treatment, control = create_treatment_and_control_groups(distance, treatment, control, treatment_pctg, control_pctg)"
   ]
  },
  {
   "cell_type": "code",
   "execution_count": 119,
   "id": "3511bd55",
   "metadata": {},
   "outputs": [
    {
     "name": "stdout",
     "output_type": "stream",
     "text": [
      "The treatment group has 11 images.\n",
      "The control group has 82 images.\n"
     ]
    }
   ],
   "source": [
    "# Let's summarize our data\n",
    "print(f\"The treatment group has {len(treatment)} images.\")\n",
    "print(f\"The control group has {len(control)} images.\")"
   ]
  },
  {
   "cell_type": "code",
   "execution_count": 120,
   "id": "6aa6a3a8",
   "metadata": {},
   "outputs": [],
   "source": [
    "# Create image datasets for reading\n",
    "#treatment = OneHotImages(\"/datacommons/carlsonlab/zdc6/cs590/land_use/train\", files = treatment_group)\n",
    "#control = OneHotImages(\"/datacommons/carlsonlab/zdc6/cs590/land_use/train\", files = control_group)"
   ]
  },
  {
   "cell_type": "code",
   "execution_count": 121,
   "id": "9c0c1f9b",
   "metadata": {},
   "outputs": [
    {
     "data": {
      "image/png": "[encoded data removed]",
      "text/plain": [
       "<Figure size 640x480 with 1 Axes>"
      ]
     },
     "metadata": {},
     "output_type": "display_data"
    }
   ],
   "source": [
    "# Do an initial comparison of the images\n",
    "treatment_temps = []\n",
    "for img, file_name, label in treatment:\n",
    "    treatment_temps.append(label)\n",
    "    \n",
    "control_temps = []\n",
    "for img, file_name, label in control:\n",
    "    control_temps.append(label)\n",
    "    \n",
    "plt.hist(control_temps, label='control', alpha=0.5)\n",
    "plt.hist(treatment_temps, label='treatment', alpha=0.5)\n",
    "plt.legend()\n",
    "plt.show()"
   ]
  },
  {
   "cell_type": "markdown",
   "id": "a6b47497",
   "metadata": {},
   "source": [
    "# Perform matching"
   ]
  },
  {
   "cell_type": "code",
   "execution_count": 123,
   "id": "cb9b76d9",
   "metadata": {},
   "outputs": [
    {
     "name": "stdout",
     "output_type": "stream",
     "text": [
      "0.3084564208984375\n",
      "0.27655029296875\n",
      "0.2482757568359375\n",
      "0.2613067626953125\n",
      "0.2688751220703125\n",
      "0.282806396484375\n",
      "0.27613067626953125\n",
      "0.24207305908203125\n",
      "0.27639007568359375\n",
      "0.25765228271484375\n",
      "0.28502655029296875\n",
      "0.7050459384918213 seconds\n"
     ]
    }
   ],
   "source": [
    "#from sklearn.metrics import hamming_loss\n",
    "from scipy.spatial.distance import hamming as hamming_loss\n",
    "\n",
    "start = time.time()\n",
    "treatment_temps = []\n",
    "control_temps = []\n",
    "\n",
    "for t_img, _, t_temp in treatment:\n",
    "    best_hamming = 1\n",
    "    best_temp = 0\n",
    "    for c_img, _, c_temp in control:\n",
    "        # Calculate the hamming distance.\n",
    "        sim = hamming_loss(t_img.flatten(), c_img.flatten())\n",
    "        if sim < best_hamming:\n",
    "            best_hamming = sim\n",
    "            best_temp = c_temp\n",
    "    print(best_hamming)\n",
    "    treatment_temps.append(t_temp)\n",
    "    control_temps.append(best_temp)\n",
    "\n",
    "print(f\"{time.time() - start} seconds\")"
   ]
  },
  {
   "cell_type": "markdown",
   "id": "345cfac0",
   "metadata": {},
   "source": [
    "So, at the given tolerances, the best we can do is about 0.26 for Hamming distances. TBH this hamming distance doesn't seem that bad? This means that 3/4 of the labels agree. Still, this is not going to be as accurate, because it assumes that the noise in agreement is independent, which is almost surely not the case."
   ]
  },
  {
   "cell_type": "markdown",
   "id": "6258ceb8",
   "metadata": {},
   "source": [
    "# Calculate the expected temperature impact"
   ]
  },
  {
   "cell_type": "code",
   "execution_count": 87,
   "id": "2fa876c1",
   "metadata": {},
   "outputs": [],
   "source": [
    "def average_treatment_effect(treatment_temps, control_temps):\n",
    "    return np.mean(treatment_temps) - np.mean(control_temps)"
   ]
  },
  {
   "cell_type": "code",
   "execution_count": 88,
   "id": "452c1170",
   "metadata": {},
   "outputs": [
    {
     "name": "stdout",
     "output_type": "stream",
     "text": [
      "The average treatment effect is 3.7 degrees F.\n"
     ]
    }
   ],
   "source": [
    "ate = average_treatment_effect(treatment_temps, control_temps)\n",
    "print(f\"The average treatment effect is {ate:.1f} degrees F.\")"
   ]
  }
 ],
 "metadata": {
  "kernelspec": {
   "display_name": "Python 3 (ipykernel)",
   "language": "python",
   "name": "python3"
  },
  "language_info": {
   "codemirror_mode": {
    "name": "ipython",
    "version": 3
   },
   "file_extension": ".py",
   "mimetype": "text/x-python",
   "name": "python",
   "nbconvert_exporter": "python",
   "pygments_lexer": "ipython3",
   "version": "3.10.9"
  }
 },
 "nbformat": 4,
 "nbformat_minor": 5
}
