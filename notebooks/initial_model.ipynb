{
 "cells": [
  {
   "cell_type": "code",
   "execution_count": 200,
   "id": "14feac1f",
   "metadata": {},
   "outputs": [],
   "source": [
    "import os\n",
    "import numpy as np\n",
    "\n",
    "import torch\n",
    "from torch.utils.data import Dataset\n",
    "from torch.utils.data import DataLoader\n",
    "from torch.nn import functional as F\n",
    "\n",
    "from torch import nn, optim"
   ]
  },
  {
   "cell_type": "code",
   "execution_count": 58,
   "id": "10e89b27",
   "metadata": {},
   "outputs": [],
   "source": [
    "class OneHotImages(Dataset):\n",
    "    def __init__(self, file_path):\n",
    "        self.file_path = file_path\n",
    "\n",
    "        # Images\n",
    "        self.files = os.listdir(os.path.join(file_path, \"img\"))\n",
    "\n",
    "    def __len__(self):\n",
    "        return len(self.files)\n",
    "\n",
    "    def __getitem__(self, idx):\n",
    "        img = torch.load(os.path.join(self.file_path, \"img\", self.files[idx]))\n",
    "\n",
    "        with open(\n",
    "            os.path.join(self.file_path, \"labels\", self.files[idx][:-3] + \".txt\")\n",
    "        ) as fp:\n",
    "            label = float(fp.read())\n",
    "\n",
    "        return img, torch.tensor(label, dtype=torch.float)"
   ]
  },
  {
   "cell_type": "code",
   "execution_count": 192,
   "id": "a1f75f03",
   "metadata": {},
   "outputs": [],
   "source": [
    "train = OneHotImages(\"/datacommons/carlsonlab/zdc6/cs590/land_use/train\")\n",
    "test = OneHotImages(\"/datacommons/carlsonlab/zdc6/cs590/land_use/test\")"
   ]
  },
  {
   "cell_type": "code",
   "execution_count": 263,
   "id": "343f55dd",
   "metadata": {},
   "outputs": [],
   "source": [
    "class SimpleModel(nn.Module):\n",
    "    def __init__(self):\n",
    "        super(SimpleModel, self).__init__()\n",
    "        self.intercept = 75\n",
    "\n",
    "        self.weight = nn.Parameter(torch.randn(256, 256, 4))\n",
    "        \n",
    "        self.softplus = nn.Softplus()\n",
    "        \n",
    "        torch.nn.init.uniform_(self.weight, a = 0.00001, b = 0.1)\n",
    "\n",
    "        self.to('cuda')\n",
    "    def forward(self, X):\n",
    "        return self.intercept + (F.relu(self.weight) * X).sum(axis=(1,2,3))\n"
   ]
  },
  {
   "cell_type": "code",
   "execution_count": 264,
   "id": "1e73f80e",
   "metadata": {},
   "outputs": [
    {
     "data": {
      "text/plain": [
       "75"
      ]
     },
     "execution_count": 264,
     "metadata": {},
     "output_type": "execute_result"
    }
   ],
   "source": [
    "model.intercept"
   ]
  },
  {
   "cell_type": "code",
   "execution_count": 265,
   "id": "77235a3d",
   "metadata": {},
   "outputs": [],
   "source": [
    "model = SimpleModel()"
   ]
  },
  {
   "cell_type": "code",
   "execution_count": 287,
   "id": "2e8b0ab9",
   "metadata": {},
   "outputs": [],
   "source": [
    "train_loader = DataLoader(train, batch_size=1)\n",
    "test_loader = DataLoader(test, batch_size=1)"
   ]
  },
  {
   "cell_type": "code",
   "execution_count": 267,
   "id": "c1f8172d",
   "metadata": {},
   "outputs": [],
   "source": [
    "optimizer = torch.optim.Adam(model.parameters(), lr=0.1)"
   ]
  },
  {
   "cell_type": "code",
   "execution_count": 268,
   "id": "27d1b2b3",
   "metadata": {},
   "outputs": [
    {
     "name": "stdout",
     "output_type": "stream",
     "text": [
      "Train loss: 11336.09816824237\n",
      "Test loss: 0.41895885349060435\n",
      "Train loss: 0.40656568140076527\n",
      "Test loss: 0.40822768359450823\n",
      "Train loss: 0.3869451772140519\n",
      "Test loss: 0.4475870547087296\n",
      "Train loss: 0.3829371222274083\n",
      "Test loss: 0.4203734072098821\n",
      "Train loss: 0.37838774913175705\n",
      "Test loss: 0.4363511956256369\n",
      "Train loss: 0.3769873924133755\n",
      "Test loss: 0.4334883719497586\n",
      "Train loss: 0.3757050460507335\n",
      "Test loss: 0.43869888116113887\n",
      "Train loss: 0.37510252657656207\n",
      "Test loss: 0.4399602427986098\n",
      "Train loss: 0.3745296267469935\n",
      "Test loss: 0.4420418117357337\n",
      "Train loss: 0.37428480912471046\n",
      "Test loss: 0.44316968266267953\n"
     ]
    }
   ],
   "source": [
    "for epoch in range(10):\n",
    "\n",
    "    train_loss = 0\n",
    "    count = 0\n",
    "    model.train()\n",
    "    for X, y in train_loader:\n",
    "        X = X.to('cuda')\n",
    "        y = y.to('cuda')\n",
    "\n",
    "        optimizer.zero_grad()\n",
    "        y_hat = model(X)\n",
    "        loss = F.mse_loss(y_hat, y)\n",
    "\n",
    "        loss.backward()\n",
    "\n",
    "        optimizer.step()\n",
    "        \n",
    "        train_loss += loss.item()\n",
    "        count += X.size(0)\n",
    "        \n",
    "    print(f\"Train loss: {train_loss / count}\")\n",
    "    model.eval()\n",
    "    test_loss = 0\n",
    "    count = 0\n",
    "    for X, y in test_loader:\n",
    "        X = X.to('cuda')\n",
    "        y = y.to('cuda')\n",
    "\n",
    "        y_hat = model(X)\n",
    "        loss = F.mse_loss(y_hat, y)\n",
    "        \n",
    "        test_loss += loss.item()\n",
    "        count += X.size(0)\n",
    "        \n",
    "    print(f\"Test loss: {test_loss / count}\")"
   ]
  },
  {
   "cell_type": "code",
   "execution_count": 269,
   "id": "ae64b4df",
   "metadata": {},
   "outputs": [],
   "source": [
    "y_preds = []\n",
    "y_actual = []\n",
    "with torch.no_grad():\n",
    "    for X, y in test_loader:\n",
    "        X = X.to('cuda')\n",
    "        y_actual.extend(y)\n",
    "\n",
    "        y_hat = model(X)\n",
    "        y_preds.extend(y_hat.cpu().numpy())"
   ]
  },
  {
   "cell_type": "code",
   "execution_count": 270,
   "id": "d5dde018",
   "metadata": {},
   "outputs": [
    {
     "data": {
      "text/plain": [
       "-5.770088794783809"
      ]
     },
     "execution_count": 270,
     "metadata": {},
     "output_type": "execute_result"
    }
   ],
   "source": [
    "\n",
    "from sklearn.metrics import r2_score\n",
    "\n",
    "r2_score(y_actual, y_preds)"
   ]
  },
  {
   "cell_type": "code",
   "execution_count": 271,
   "id": "0afdcd56",
   "metadata": {},
   "outputs": [
    {
     "data": {
      "image/png": "[encoded data removed]",
      "text/plain": [
       "<Figure size 640x480 with 1 Axes>"
      ]
     },
     "metadata": {},
     "output_type": "display_data"
    }
   ],
   "source": [
    "from matplotlib import pyplot as plt\n",
    "plt.scatter(y_preds, y_actual)\n",
    "plt.plot(np.linspace(78, 84, 2), np.linspace(78, 84, 2), 'r--')\n",
    "plt.xlabel(\"y preds\")\n",
    "plt.ylabel(\"actual\")\n",
    "plt.show()"
   ]
  },
  {
   "cell_type": "code",
   "execution_count": 303,
   "id": "7ad9193e",
   "metadata": {},
   "outputs": [],
   "source": [
    "X_train_s = []\n",
    "y_train_s = []\n",
    "for X, y in train_loader:\n",
    "    X_train_s.append(X[0].numpy().mean(axis=(0,1)))\n",
    "    y_train_s.append(y[0].item())\n",
    "    \n",
    "    \n",
    "X_test_s = []\n",
    "y_test_s = []\n",
    "for X, y in test_loader:\n",
    "    X_test_s.append(X[0].numpy().mean(axis=(0,1)))\n",
    "    y_test_s.append(y[0].item())\n",
    "    "
   ]
  },
  {
   "cell_type": "code",
   "execution_count": 304,
   "id": "bcc78364",
   "metadata": {},
   "outputs": [],
   "source": [
    "X_train_s = np.array(X_train_s)\n",
    "X_test_s = np.array(X_test_s)"
   ]
  },
  {
   "cell_type": "code",
   "execution_count": 305,
   "id": "4c6ae0bf",
   "metadata": {},
   "outputs": [
    {
     "data": {
      "text/html": [
       "<style>#sk-container-id-2 {color: black;background-color: white;}#sk-container-id-2 pre{padding: 0;}#sk-container-id-2 div.sk-toggleable {background-color: white;}#sk-container-id-2 label.sk-toggleable__label {cursor: pointer;display: block;width: 100%;margin-bottom: 0;padding: 0.3em;box-sizing: border-box;text-align: center;}#sk-container-id-2 label.sk-toggleable__label-arrow:before {content: \"▸\";float: left;margin-right: 0.25em;color: #696969;}#sk-container-id-2 label.sk-toggleable__label-arrow:hover:before {color: black;}#sk-container-id-2 div.sk-estimator:hover label.sk-toggleable__label-arrow:before {color: black;}#sk-container-id-2 div.sk-toggleable__content {max-height: 0;max-width: 0;overflow: hidden;text-align: left;background-color: #f0f8ff;}#sk-container-id-2 div.sk-toggleable__content pre {margin: 0.2em;color: black;border-radius: 0.25em;background-color: #f0f8ff;}#sk-container-id-2 input.sk-toggleable__control:checked~div.sk-toggleable__content {max-height: 200px;max-width: 100%;overflow: auto;}#sk-container-id-2 input.sk-toggleable__control:checked~label.sk-toggleable__label-arrow:before {content: \"▾\";}#sk-container-id-2 div.sk-estimator input.sk-toggleable__control:checked~label.sk-toggleable__label {background-color: #d4ebff;}#sk-container-id-2 div.sk-label input.sk-toggleable__control:checked~label.sk-toggleable__label {background-color: #d4ebff;}#sk-container-id-2 input.sk-hidden--visually {border: 0;clip: rect(1px 1px 1px 1px);clip: rect(1px, 1px, 1px, 1px);height: 1px;margin: -1px;overflow: hidden;padding: 0;position: absolute;width: 1px;}#sk-container-id-2 div.sk-estimator {font-family: monospace;background-color: #f0f8ff;border: 1px dotted black;border-radius: 0.25em;box-sizing: border-box;margin-bottom: 0.5em;}#sk-container-id-2 div.sk-estimator:hover {background-color: #d4ebff;}#sk-container-id-2 div.sk-parallel-item::after {content: \"\";width: 100%;border-bottom: 1px solid gray;flex-grow: 1;}#sk-container-id-2 div.sk-label:hover label.sk-toggleable__label {background-color: #d4ebff;}#sk-container-id-2 div.sk-serial::before {content: \"\";position: absolute;border-left: 1px solid gray;box-sizing: border-box;top: 0;bottom: 0;left: 50%;z-index: 0;}#sk-container-id-2 div.sk-serial {display: flex;flex-direction: column;align-items: center;background-color: white;padding-right: 0.2em;padding-left: 0.2em;position: relative;}#sk-container-id-2 div.sk-item {position: relative;z-index: 1;}#sk-container-id-2 div.sk-parallel {display: flex;align-items: stretch;justify-content: center;background-color: white;position: relative;}#sk-container-id-2 div.sk-item::before, #sk-container-id-2 div.sk-parallel-item::before {content: \"\";position: absolute;border-left: 1px solid gray;box-sizing: border-box;top: 0;bottom: 0;left: 50%;z-index: -1;}#sk-container-id-2 div.sk-parallel-item {display: flex;flex-direction: column;z-index: 1;position: relative;background-color: white;}#sk-container-id-2 div.sk-parallel-item:first-child::after {align-self: flex-end;width: 50%;}#sk-container-id-2 div.sk-parallel-item:last-child::after {align-self: flex-start;width: 50%;}#sk-container-id-2 div.sk-parallel-item:only-child::after {width: 0;}#sk-container-id-2 div.sk-dashed-wrapped {border: 1px dashed gray;margin: 0 0.4em 0.5em 0.4em;box-sizing: border-box;padding-bottom: 0.4em;background-color: white;}#sk-container-id-2 div.sk-label label {font-family: monospace;font-weight: bold;display: inline-block;line-height: 1.2em;}#sk-container-id-2 div.sk-label-container {text-align: center;}#sk-container-id-2 div.sk-container {/* jupyter's `normalize.less` sets `[hidden] { display: none; }` but bootstrap.min.css set `[hidden] { display: none !important; }` so we also need the `!important` here to be able to override the default hidden behavior on the sphinx rendered scikit-learn.org. See: https://github.com/scikit-learn/scikit-learn/issues/21755 */display: inline-block !important;position: relative;}#sk-container-id-2 div.sk-text-repr-fallback {display: none;}</style><div id=\"sk-container-id-2\" class=\"sk-top-container\"><div class=\"sk-text-repr-fallback\"><pre>LinearRegression()</pre><b>In a Jupyter environment, please rerun this cell to show the HTML representation or trust the notebook. <br />On GitHub, the HTML representation is unable to render, please try loading this page with nbviewer.org.</b></div><div class=\"sk-container\" hidden><div class=\"sk-item\"><div class=\"sk-estimator sk-toggleable\"><input class=\"sk-toggleable__control sk-hidden--visually\" id=\"sk-estimator-id-2\" type=\"checkbox\" checked><label for=\"sk-estimator-id-2\" class=\"sk-toggleable__label sk-toggleable__label-arrow\">LinearRegression</label><div class=\"sk-toggleable__content\"><pre>LinearRegression()</pre></div></div></div></div></div>"
      ],
      "text/plain": [
       "LinearRegression()"
      ]
     },
     "execution_count": 305,
     "metadata": {},
     "output_type": "execute_result"
    }
   ],
   "source": [
    "from sklearn.linear_model import LinearRegression\n",
    "\n",
    "lm = LinearRegression()\n",
    "\n",
    "lm.fit(X_train_s, y_train_s)"
   ]
  },
  {
   "cell_type": "code",
   "execution_count": 306,
   "id": "3471a4d4",
   "metadata": {},
   "outputs": [],
   "source": [
    "preds = lm.predict(X_test_s)"
   ]
  },
  {
   "cell_type": "code",
   "execution_count": 307,
   "id": "f1b7783c",
   "metadata": {},
   "outputs": [
    {
     "data": {
      "text/plain": [
       "0.25651230021743976"
      ]
     },
     "execution_count": 307,
     "metadata": {},
     "output_type": "execute_result"
    }
   ],
   "source": [
    "r2_score(y_test_s, preds)"
   ]
  },
  {
   "cell_type": "code",
   "execution_count": 309,
   "id": "176859df",
   "metadata": {},
   "outputs": [
    {
     "data": {
      "text/plain": [
       "<matplotlib.collections.PathCollection at 0x7fa1986aa740>"
      ]
     },
     "execution_count": 309,
     "metadata": {},
     "output_type": "execute_result"
    },
    {
     "data": {
      "image/png": "[encoded data removed]",
      "text/plain": [
       "<Figure size 640x480 with 1 Axes>"
      ]
     },
     "metadata": {},
     "output_type": "display_data"
    }
   ],
   "source": [
    "plt.scatter(preds, y_test_s)"
   ]
  },
  {
   "cell_type": "code",
   "execution_count": 310,
   "id": "dcbd4a68",
   "metadata": {},
   "outputs": [
    {
     "data": {
      "text/plain": [
       "-0.3615071020071128"
      ]
     },
     "execution_count": 310,
     "metadata": {},
     "output_type": "execute_result"
    }
   ],
   "source": [
    "from sklearn.tree import DecisionTreeRegressor\n",
    "\n",
    "dt = DecisionTreeRegressor()\n",
    "\n",
    "dt.fit(X_train_s, y_train_s)\n",
    "\n",
    "preds = dt.predict(X_test_s)\n",
    "\n",
    "r2_score(y_test_s, preds)"
   ]
  },
  {
   "cell_type": "code",
   "execution_count": 313,
   "id": "842cf539",
   "metadata": {},
   "outputs": [
    {
     "data": {
      "text/plain": [
       "array([-0.20859339, -3.0248333 , -4.3525533 ,  7.58597999])"
      ]
     },
     "execution_count": 313,
     "metadata": {},
     "output_type": "execute_result"
    }
   ],
   "source": [
    "lm.coef_"
   ]
  },
  {
   "cell_type": "code",
   "execution_count": 315,
   "id": "499fdbad",
   "metadata": {},
   "outputs": [
    {
     "data": {
      "text/plain": [
       "83.54279165744097"
      ]
     },
     "execution_count": 315,
     "metadata": {},
     "output_type": "execute_result"
    }
   ],
   "source": [
    "lm.intercept_"
   ]
  },
  {
   "cell_type": "code",
   "execution_count": 185,
   "id": "706ae27c",
   "metadata": {},
   "outputs": [
    {
     "data": {
      "text/plain": [
       "<matplotlib.image.AxesImage at 0x7fa198f011e0>"
      ]
     },
     "execution_count": 185,
     "metadata": {},
     "output_type": "execute_result"
    },
    {
     "data": {
      "image/png": "[encoded data removed]",
      "text/plain": [
       "<Figure size 640x480 with 1 Axes>"
      ]
     },
     "metadata": {},
     "output_type": "display_data"
    }
   ],
   "source": [
    "plt.imshow(X[0,:, :, 3].cpu().numpy())"
   ]
  },
  {
   "cell_type": "code",
   "execution_count": 176,
   "id": "711a24a3",
   "metadata": {},
   "outputs": [
    {
     "data": {
      "text/plain": [
       "941"
      ]
     },
     "execution_count": 176,
     "metadata": {},
     "output_type": "execute_result"
    }
   ],
   "source": [
    "len(y_actual)"
   ]
  },
  {
   "cell_type": "code",
   "execution_count": 177,
   "id": "2a9ebb8a",
   "metadata": {},
   "outputs": [
    {
     "data": {
      "text/plain": [
       "Parameter containing:\n",
       "tensor(78.9949, device='cuda:0', requires_grad=True)"
      ]
     },
     "execution_count": 177,
     "metadata": {},
     "output_type": "execute_result"
    }
   ],
   "source": [
    "model.intercept"
   ]
  },
  {
   "cell_type": "code",
   "execution_count": null,
   "id": "a0e1f1d2",
   "metadata": {},
   "outputs": [],
   "source": []
  }
 ],
 "metadata": {
  "kernelspec": {
   "display_name": "Python 3 (ipykernel)",
   "language": "python",
   "name": "python3"
  },
  "language_info": {
   "codemirror_mode": {
    "name": "ipython",
    "version": 3
   },
   "file_extension": ".py",
   "mimetype": "text/x-python",
   "name": "python",
   "nbconvert_exporter": "python",
   "pygments_lexer": "ipython3",
   "version": "3.10.9"
  }
 },
 "nbformat": 4,
 "nbformat_minor": 5
}
