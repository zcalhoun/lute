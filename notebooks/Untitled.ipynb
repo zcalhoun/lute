{
 "cells": [
  {
   "cell_type": "code",
   "execution_count": 2,
   "id": "2bd05c41",
   "metadata": {},
   "outputs": [],
   "source": [
    "import os\n",
    "import numpy as np\n",
    "\n",
    "from sklearn.metrics import r2_score\n",
    "\n",
    "import torch\n",
    "from torch.utils.data import Dataset\n",
    "from torchvision import transforms\n",
    "from PIL import Image\n",
    "\n",
    "from matplotlib import pyplot as plt"
   ]
  },
  {
   "cell_type": "code",
   "execution_count": 3,
   "id": "2f5b7002",
   "metadata": {},
   "outputs": [],
   "source": [
    "base_path = '/datacommons/carlsonlab/fcw/planet_preprocessed'\n",
    "train_path = os.path.join(base_path, 'train')\n",
    "test_path = os.path.join(base_path, 'test')"
   ]
  },
  {
   "cell_type": "code",
   "execution_count": 4,
   "id": "0d8c4aed",
   "metadata": {},
   "outputs": [],
   "source": [
    "from joblib import load"
   ]
  },
  {
   "cell_type": "code",
   "execution_count": 5,
   "id": "7ab926c6",
   "metadata": {},
   "outputs": [],
   "source": [
    "class OneHotImages(Dataset):\n",
    "    def __init__(self, file_path):\n",
    "        self.file_path = file_path\n",
    "        \n",
    "        # Images\n",
    "        self.files = os.listdir(os.path.join(file_path, 'img'))\n",
    "    \n",
    "    def __len__(self):\n",
    "        return len(self.files)\n",
    "    \n",
    "    def __getitem__(self, idx):\n",
    "        \n",
    "        img = torch.load(os.path.join(self.file_path, 'img', self.files[idx]))\n",
    "        \n",
    "        with open(os.path.join(self.file_path, 'labels', self.files[idx][:-3] + '.txt')) as fp:\n",
    "            label = float(fp.read())\n",
    "            \n",
    "        return img, label"
   ]
  },
  {
   "cell_type": "code",
   "execution_count": 6,
   "id": "864a402a",
   "metadata": {},
   "outputs": [],
   "source": [
    "def _kmeans_transform(img, kmeans_model):\n",
    "    # Convert the image to a numpy array\n",
    "    img_np = np.array(img)\n",
    "\n",
    "    # Flatten the image to a 1D array\n",
    "    img_flat = img_np.reshape((-1, 3))\n",
    "\n",
    "    # Apply k-means clustering to the flattened image\n",
    "    labels = kmeans_model.predict(img_flat)\n",
    "\n",
    "    # Reshape the labels to match the original image shape\n",
    "    img_labels = labels.reshape(img_np.shape[:2])\n",
    "\n",
    "    # Convert the labels to a PyTorch tensor and return it\n",
    "    return torch.tensor(img_labels, dtype=torch.long)"
   ]
  },
  {
   "cell_type": "code",
   "execution_count": 7,
   "id": "58301bbb",
   "metadata": {},
   "outputs": [],
   "source": [
    "train_dataset = OneHotImages('/datacommons/carlsonlab/zdc6/cs590/land_use/train')\n",
    "test_dataset = OneHotImages('/datacommons/carlsonlab/zdc6/cs590/land_use/test')"
   ]
  },
  {
   "cell_type": "markdown",
   "id": "05c587af",
   "metadata": {},
   "source": [
    "### See what images look like"
   ]
  },
  {
   "cell_type": "code",
   "execution_count": 58,
   "id": "38f97e8e",
   "metadata": {},
   "outputs": [
    {
     "data": {
      "image/png": "[encoded data removed]",
      "text/plain": [
       "<Figure size 640x480 with 1 Axes>"
      ]
     },
     "metadata": {},
     "output_type": "display_data"
    }
   ],
   "source": [
    "# Load the first image in the dataset\n",
    "img, label = train_dataset[0]\n",
    "\n",
    "# Convert the image to a numpy array\n",
    "img_np = img.numpy()\n",
    "\n",
    "# Plot the image\n",
    "plt.imshow(img_np)\n",
    "plt.show()"
   ]
  },
  {
   "cell_type": "code",
   "execution_count": 59,
   "id": "206d2c3b",
   "metadata": {},
   "outputs": [
    {
     "data": {
      "text/plain": [
       "array([[4, 4, 4, ..., 4, 4, 4],\n",
       "       [4, 4, 4, ..., 4, 4, 4],\n",
       "       [4, 4, 4, ..., 4, 4, 4],\n",
       "       ...,\n",
       "       [4, 4, 4, ..., 4, 4, 4],\n",
       "       [4, 4, 4, ..., 4, 4, 4],\n",
       "       [4, 4, 4, ..., 4, 4, 4]])"
      ]
     },
     "execution_count": 59,
     "metadata": {},
     "output_type": "execute_result"
    }
   ],
   "source": [
    "img_np"
   ]
  },
  {
   "cell_type": "code",
   "execution_count": null,
   "id": "9dea4fb7",
   "metadata": {},
   "outputs": [],
   "source": [
    "# Torch packages\n",
    "import torch\n",
    "from torch import nn, optim\n",
    "from torch.utils.data import DataLoader\n",
    "from torch.nn import functional as F"
   ]
  }
 ],
 "metadata": {
  "kernelspec": {
   "display_name": "Python 3 (ipykernel)",
   "language": "python",
   "name": "python3"
  },
  "language_info": {
   "codemirror_mode": {
    "name": "ipython",
    "version": 3
   },
   "file_extension": ".py",
   "mimetype": "text/x-python",
   "name": "python",
   "nbconvert_exporter": "python",
   "pygments_lexer": "ipython3",
   "version": "3.10.9"
  }
 },
 "nbformat": 4,
 "nbformat_minor": 5
}
