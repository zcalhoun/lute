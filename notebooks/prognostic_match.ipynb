{
 "cells": [
  {
   "cell_type": "markdown",
   "id": "ea8beca0",
   "metadata": {},
   "source": [
    "# In this notebook\n",
    "I look at constructing a simple matching score based on surrounding neighbors. The general idea is that good matches will have similar neighbors, and that we can further refine matches from there."
   ]
  },
  {
   "cell_type": "code",
   "execution_count": 1,
   "id": "da1d9a6e",
   "metadata": {},
   "outputs": [],
   "source": [
    "# Import all dependencies\n",
    "import os\n",
    "import numpy as np\n",
    "from multiprocessing import Pool\n",
    "from matplotlib import pyplot as plt\n",
    "import geopandas as gpd\n",
    "from scipy.spatial.distance import hamming as hamming_loss\n",
    "\n",
    "import torch\n",
    "from torch.utils.data import Dataset"
   ]
  },
  {
   "cell_type": "markdown",
   "id": "a49bab52",
   "metadata": {},
   "source": [
    "# 1. Load the source images"
   ]
  },
  {
   "cell_type": "code",
   "execution_count": 2,
   "id": "49bb0f35",
   "metadata": {},
   "outputs": [],
   "source": [
    "file_path = '/datacommons/carlsonlab/zdc6/cs590/land_use/train'\n",
    "imgs = os.listdir(os.path.join(file_path, 'img'))\n",
    "\n",
    "\n",
    "class OneHotImages(Dataset):\n",
    "    def __init__(self, file_path, files = None, transforms=None):\n",
    "        self.file_path = file_path\n",
    "\n",
    "        # Images\n",
    "        if files is None:\n",
    "            self.files = os.listdir(os.path.join(file_path, \"img\"))\n",
    "        else:\n",
    "            self.files = files\n",
    "\n",
    "    def __len__(self):\n",
    "        return len(self.files)\n",
    "\n",
    "    def __getitem__(self, idx):\n",
    "        img = torch.load(os.path.join(self.file_path, \"img\", self.files[idx]))\n",
    "\n",
    "        with open(\n",
    "            os.path.join(self.file_path, \"labels\", self.files[idx][:-3] + \".txt\")\n",
    "        ) as fp:\n",
    "            label = float(fp.read())\n",
    "        # Omit the tree class\n",
    "        return img.numpy(), self.files[idx], label\n",
    "    \n",
    "# We only need the training data\n",
    "train = OneHotImages(\"/datacommons/carlsonlab/zdc6/cs590/land_use/train\")"
   ]
  },
  {
   "cell_type": "markdown",
   "id": "6e11395d",
   "metadata": {},
   "source": [
    "# 2. Load the traversal data"
   ]
  },
  {
   "cell_type": "code",
   "execution_count": 4,
   "id": "b1b32252",
   "metadata": {},
   "outputs": [
    {
     "data": {
      "text/html": [
       "<div>\n",
       "<style scoped>\n",
       "    .dataframe tbody tr th:only-of-type {\n",
       "        vertical-align: middle;\n",
       "    }\n",
       "\n",
       "    .dataframe tbody tr th {\n",
       "        vertical-align: top;\n",
       "    }\n",
       "\n",
       "    .dataframe thead th {\n",
       "        text-align: right;\n",
       "    }\n",
       "</style>\n",
       "<table border=\"1\" class=\"dataframe\">\n",
       "  <thead>\n",
       "    <tr style=\"text-align: right;\">\n",
       "      <th></th>\n",
       "      <th>datetime</th>\n",
       "      <th>temp_f</th>\n",
       "      <th>hi_f</th>\n",
       "      <th>rh</th>\n",
       "      <th>file</th>\n",
       "      <th>kmph</th>\n",
       "      <th>trav_id</th>\n",
       "      <th>geometry</th>\n",
       "    </tr>\n",
       "  </thead>\n",
       "  <tbody>\n",
       "    <tr>\n",
       "      <th>0</th>\n",
       "      <td>2021-07-23 19:00:00</td>\n",
       "      <td>83.68</td>\n",
       "      <td>85.13</td>\n",
       "      <td>51.94</td>\n",
       "      <td>1006_230721_225132.000_0.csv</td>\n",
       "      <td>19.24</td>\n",
       "      <td>pm</td>\n",
       "      <td>POINT (-78.58891 35.87446)</td>\n",
       "    </tr>\n",
       "    <tr>\n",
       "      <th>1</th>\n",
       "      <td>2021-07-23 19:00:01</td>\n",
       "      <td>83.68</td>\n",
       "      <td>85.13</td>\n",
       "      <td>51.94</td>\n",
       "      <td>1006_230721_225132.000_0.csv</td>\n",
       "      <td>26.87</td>\n",
       "      <td>pm</td>\n",
       "      <td>POINT (-78.58885 35.87452)</td>\n",
       "    </tr>\n",
       "    <tr>\n",
       "      <th>2</th>\n",
       "      <td>2021-07-23 19:00:02</td>\n",
       "      <td>83.68</td>\n",
       "      <td>85.13</td>\n",
       "      <td>51.94</td>\n",
       "      <td>1006_230721_225132.000_0.csv</td>\n",
       "      <td>30.27</td>\n",
       "      <td>pm</td>\n",
       "      <td>POINT (-78.58880 35.87458)</td>\n",
       "    </tr>\n",
       "    <tr>\n",
       "      <th>3</th>\n",
       "      <td>2021-07-23 19:00:03</td>\n",
       "      <td>83.68</td>\n",
       "      <td>85.13</td>\n",
       "      <td>51.94</td>\n",
       "      <td>1006_230721_225132.000_0.csv</td>\n",
       "      <td>32.32</td>\n",
       "      <td>pm</td>\n",
       "      <td>POINT (-78.58873 35.87465)</td>\n",
       "    </tr>\n",
       "    <tr>\n",
       "      <th>4</th>\n",
       "      <td>2021-07-23 19:00:04</td>\n",
       "      <td>83.68</td>\n",
       "      <td>85.13</td>\n",
       "      <td>51.94</td>\n",
       "      <td>1006_230721_225132.000_0.csv</td>\n",
       "      <td>33.93</td>\n",
       "      <td>pm</td>\n",
       "      <td>POINT (-78.58867 35.87472)</td>\n",
       "    </tr>\n",
       "  </tbody>\n",
       "</table>\n",
       "</div>"
      ],
      "text/plain": [
       "              datetime  temp_f   hi_f     rh                          file  \\\n",
       "0  2021-07-23 19:00:00   83.68  85.13  51.94  1006_230721_225132.000_0.csv   \n",
       "1  2021-07-23 19:00:01   83.68  85.13  51.94  1006_230721_225132.000_0.csv   \n",
       "2  2021-07-23 19:00:02   83.68  85.13  51.94  1006_230721_225132.000_0.csv   \n",
       "3  2021-07-23 19:00:03   83.68  85.13  51.94  1006_230721_225132.000_0.csv   \n",
       "4  2021-07-23 19:00:04   83.68  85.13  51.94  1006_230721_225132.000_0.csv   \n",
       "\n",
       "    kmph trav_id                    geometry  \n",
       "0  19.24      pm  POINT (-78.58891 35.87446)  \n",
       "1  26.87      pm  POINT (-78.58885 35.87452)  \n",
       "2  30.27      pm  POINT (-78.58880 35.87458)  \n",
       "3  32.32      pm  POINT (-78.58873 35.87465)  \n",
       "4  33.93      pm  POINT (-78.58867 35.87472)  "
      ]
     },
     "execution_count": 4,
     "metadata": {},
     "output_type": "execute_result"
    }
   ],
   "source": [
    "# Get traversal data for PM_traversal.\n",
    "traversal_path = '/datacommons/carlsonlab/zdc6/uhi/data/traverses/pm_trav.shp'\n",
    "df = gpd.read_file(traversal_path)\n",
    "df.head()"
   ]
  },
  {
   "cell_type": "markdown",
   "id": "17cc4a39",
   "metadata": {},
   "source": [
    "# 3. For each of the images, calculate the average temperature for the k nearest neighbors"
   ]
  },
  {
   "cell_type": "code",
   "execution_count": 7,
   "id": "97b12bf8",
   "metadata": {},
   "outputs": [],
   "source": [
    "# Only keep Raleigh points\n",
    "# df = df[df['geometry'].y < 35.9]\n",
    "# print(len(df))\n",
    "# Convert to meters\n",
    "df = df.to_crs(epsg=3857)"
   ]
  },
  {
   "cell_type": "code",
   "execution_count": 6,
   "id": "9d2a50b0",
   "metadata": {},
   "outputs": [
    {
     "name": "stdout",
     "output_type": "stream",
     "text": [
      "941\n"
     ]
    }
   ],
   "source": [
    "print(len(train))"
   ]
  },
  {
   "cell_type": "code",
   "execution_count": 9,
   "id": "d27400cb",
   "metadata": {},
   "outputs": [
    {
     "name": "stdout",
     "output_type": "stream",
     "text": [
      "Finished 0 of 941\n",
      "Finished 100 of 941\n",
      "Finished 200 of 941\n",
      "Finished 300 of 941\n",
      "Finished 400 of 941\n",
      "Finished 500 of 941\n",
      "Finished 600 of 941\n",
      "Finished 700 of 941\n",
      "Finished 800 of 941\n",
      "Finished 900 of 941\n"
     ]
    }
   ],
   "source": [
    "# Create dictionary mapping from ID to nearest neighbor temperature\n",
    "nn_temp_map = {}\n",
    "match_value = []\n",
    "\n",
    "for i, (img, file_name, actual_temp) in enumerate(train):\n",
    "    if i % 100 == 0:\n",
    "        print(f'Finished {i} of {len(train)}')\n",
    "    point_id = int(file_name.split(\"_\")[-1].split(\".\")[0])\n",
    "    \n",
    "    # Get the poitn\n",
    "    point = df.iloc[point_id]\n",
    "    \n",
    "    # Get all points close to that point ID\n",
    "    df['dist'] = np.sqrt((df.geometry.x - point.geometry.x)**2 + (df.geometry.y - point.geometry.y)**2)\n",
    "    \n",
    "    # Calculate the prog score\n",
    "    sort_arr = df[df['dist'] > 600] # Must be at least 600 meters away (to be far enough away from the point)\n",
    "    prog_score = sort_arr.sort_values('dist')[0:10]['temp_f'].mean()\n",
    "    \n",
    "    # Append value\n",
    "    match_value.append(prog_score)\n",
    "    \n",
    "    nn_temp_map[str(point_id)] = prog_score"
   ]
  },
  {
   "cell_type": "code",
   "execution_count": 10,
   "id": "cb7fd20f",
   "metadata": {},
   "outputs": [
    {
     "data": {
      "image/png": "[encoded data removed]",
      "text/plain": [
       "<Figure size 640x480 with 1 Axes>"
      ]
     },
     "metadata": {},
     "output_type": "display_data"
    }
   ],
   "source": [
    "# Let's visualize the relationship between the match values and the\n",
    "# actual temperature observed\n",
    "actual_temps = []\n",
    "for i in range(len(train)):\n",
    "#     if i % 100 == 0:\n",
    "#         print(f'Finished {i} of {len(train)}')\n",
    "    point_id = int(train[i][1].split(\"_\")[-1].split(\".\")[0])\n",
    "    \n",
    "    actual_temps.append(train[i][2])\n",
    "    \n",
    "plt.scatter(actual_temps, match_value)\n",
    "plt.xlabel(\"Temperature\")\n",
    "plt.ylabel(\"Neighboring temperatures\")\n",
    "plt.show()"
   ]
  },
  {
   "cell_type": "code",
   "execution_count": 14,
   "id": "7cce7e3f",
   "metadata": {},
   "outputs": [],
   "source": [
    "# Remove the distance column after the last run\n",
    "df.drop(columns='dist', inplace=True)"
   ]
  },
  {
   "cell_type": "markdown",
   "id": "bb7d1714",
   "metadata": {},
   "source": [
    "# 4. Create the bins, and match on specific values"
   ]
  },
  {
   "cell_type": "code",
   "execution_count": 19,
   "id": "824e573c",
   "metadata": {},
   "outputs": [],
   "source": [
    "match_value = np.array(match_value)"
   ]
  },
  {
   "cell_type": "code",
   "execution_count": 94,
   "id": "0681a041",
   "metadata": {},
   "outputs": [],
   "source": [
    "distance = 10\n",
    "treatment = 0   # 0 is roughly concrete, 1 is grass, 2 is trees, 3 is building? this isn't exact\n",
    "control = 2\n",
    "treatment_pctg = 0.9\n",
    "control_pctg = 0.9"
   ]
  },
  {
   "cell_type": "code",
   "execution_count": 95,
   "id": "a1190bdf",
   "metadata": {},
   "outputs": [],
   "source": [
    "# Define the treatment distance in pixels, the class of interest, \n",
    "# and the percentage greater than for the treatment, and percentage less than\n",
    "# for the control\n",
    "import time\n",
    "def create_treatment_and_control_groups(distance, treatment, control, treatment_pctg, control_pctg):\n",
    "    # Add files to this list for matching\n",
    "    start = time.time()\n",
    "    \n",
    "    treatment_group = []\n",
    "    control_group = []\n",
    "    \n",
    "    # Set a few variables\n",
    "    w, h, _ = train[0][0].shape\n",
    "\n",
    "    # Look at each image and file into the categories\n",
    "    for (img, file_name, label), mv in zip(train, match_value): \n",
    "        # Look at pixels in the middle of the image\n",
    "        area = img[w//2 - distance:w//2 + distance, h//2 - distance:h//2 + distance, :]\n",
    "\n",
    "        if area[:, :, treatment].mean() > treatment_pctg:\n",
    "            treatment_group.append((img, file_name, label, mv))\n",
    "\n",
    "        if area[:, :, control].mean() > control_pctg:\n",
    "            control_group.append((img, file_name, label, mv))\n",
    "    \n",
    "    print(f\"{time.time() - start} seconds\")\n",
    "    \n",
    "    return treatment_group, control_group"
   ]
  },
  {
   "cell_type": "code",
   "execution_count": 96,
   "id": "8408defd",
   "metadata": {},
   "outputs": [
    {
     "name": "stdout",
     "output_type": "stream",
     "text": [
      "9.02227258682251 seconds\n"
     ]
    }
   ],
   "source": [
    "treatment, control = create_treatment_and_control_groups(distance, treatment, control, treatment_pctg, control_pctg)\n"
   ]
  },
  {
   "cell_type": "code",
   "execution_count": 42,
   "id": "17aae94a",
   "metadata": {},
   "outputs": [
    {
     "data": {
      "image/png": "[encoded data removed]",
      "text/plain": [
       "<Figure size 640x480 with 1 Axes>"
      ]
     },
     "metadata": {},
     "output_type": "display_data"
    }
   ],
   "source": [
    "# Let's plot the relationship between the observed values and the\n",
    "# match values\n",
    "tr_vals = [t[2] for t in treatment]\n",
    "tr_neighbors = [t[3] for t in treatment]\n",
    "\n",
    "co_vals = [c[2] for c in control]\n",
    "co_neighbors = [c[3] for c in control]\n",
    "\n",
    "plt.scatter(tr_vals, tr_neighbors)\n",
    "plt.scatter(co_vals, co_neighbors)\n",
    "plt.xlabel(\"Temperatures\")\n",
    "plt.ylabel(\"Match values\")\n",
    "plt.show()"
   ]
  },
  {
   "cell_type": "code",
   "execution_count": null,
   "id": "68d77829",
   "metadata": {},
   "outputs": [],
   "source": [
    "# Define the filter function to get the set of controls\n",
    "from functools import partial\n",
    "def get_match_value(radius, treatment_val, control_val):\n",
    "    if abs(treatment_val - control_val[3]) < radius:\n",
    "        return True\n",
    "    return False"
   ]
  },
  {
   "cell_type": "code",
   "execution_count": 105,
   "id": "96ae2e64",
   "metadata": {},
   "outputs": [],
   "source": [
    "match_radius = 1 # Temperatures within which the match should fall\n",
    "treatment_vals = []\n",
    "control_vals = []\n",
    "for t_img, _, label, mv, in treatment:\n",
    "    # Get candidates within the radius\n",
    "    get_control = partial(get_match_value, match_radius, mv)\n",
    "    valid_controls = list(filter(get_control, control))\n",
    "    \n",
    "    if len(valid_controls) == 0:\n",
    "        continue\n",
    "    else:\n",
    "        treatment_vals.append(label)\n",
    "        \n",
    "    # Get closest hamming distance values\n",
    "    best_hamming = 1\n",
    "    best_temp = 0\n",
    "    for c_img, _, c_temp, _ in valid_controls:\n",
    "        sim = hamming_loss(t_img.flatten(), c_img.flatten())\n",
    "\n",
    "        if sim < best_hamming:\n",
    "            best_hamming = sim\n",
    "            best_temp = c_temp\n",
    "    control_vals.append(best_temp)"
   ]
  },
  {
   "cell_type": "code",
   "execution_count": 106,
   "id": "13b44785",
   "metadata": {},
   "outputs": [
    {
     "name": "stdout",
     "output_type": "stream",
     "text": [
      "11\n"
     ]
    }
   ],
   "source": [
    "print(len(treatment_vals))"
   ]
  },
  {
   "cell_type": "markdown",
   "id": "264b9bf6",
   "metadata": {},
   "source": [
    "# Calculate the average treatment effect"
   ]
  },
  {
   "cell_type": "code",
   "execution_count": 107,
   "id": "1e51918d",
   "metadata": {},
   "outputs": [
    {
     "name": "stdout",
     "output_type": "stream",
     "text": [
      "The ATE is 1.37 degrees Fahrenheit.\n"
     ]
    }
   ],
   "source": [
    "ate = np.mean(treatment_vals) - np.mean(control_vals)\n",
    "print(f\"The ATE is {ate:.2f} degrees Fahrenheit.\")"
   ]
  }
 ],
 "metadata": {
  "kernelspec": {
   "display_name": "Python 3 (ipykernel)",
   "language": "python",
   "name": "python3"
  },
  "language_info": {
   "codemirror_mode": {
    "name": "ipython",
    "version": 3
   },
   "file_extension": ".py",
   "mimetype": "text/x-python",
   "name": "python",
   "nbconvert_exporter": "python",
   "pygments_lexer": "ipython3",
   "version": "3.10.9"
  }
 },
 "nbformat": 4,
 "nbformat_minor": 5
}
